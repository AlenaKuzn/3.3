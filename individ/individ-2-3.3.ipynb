{
 "cells": [
  {
   "cell_type": "markdown",
   "id": "2dc674d6",
   "metadata": {},
   "source": [
    "# Индивидуальное задание 2"
   ]
  },
  {
   "cell_type": "markdown",
   "id": "dea4ccb9",
   "metadata": {},
   "source": [
    "Создать ноутбук, в котором будут приведены собственные примеры решения систем\n",
    "линейных уравнений матричным методом и методом Крамера."
   ]
  },
  {
   "cell_type": "markdown",
   "id": "8104fd4c",
   "metadata": {},
   "source": [
    "# Матричный метод"
   ]
  },
  {
   "cell_type": "markdown",
   "id": "7f73276c",
   "metadata": {},
   "source": [
    "решение системы линейных алгебраических уравнений по матричному методу определяется равенством\n",
    "\n",
    "  $$ X = A^{-1} * B $$\n",
    "\n",
    "В случае, если det A не равен нулю, у системы имеется только один вариант решения: при помощи метода обратной матрицы. Если det A=0, то систему нельзя решить данным методом."
   ]
  },
  {
   "cell_type": "code",
   "execution_count": 2,
   "id": "1ba1de9a",
   "metadata": {},
   "outputs": [],
   "source": [
    "import numpy as np"
   ]
  },
  {
   "cell_type": "code",
   "execution_count": 5,
   "id": "74ec93a9",
   "metadata": {},
   "outputs": [
    {
     "name": "stdout",
     "output_type": "stream",
     "text": [
      "Первая матрица:\n",
      " [[-9 -8  4]\n",
      " [ 5  1  7]\n",
      " [-1  1 -1]]\n",
      "Вторая матрица:\n",
      " [[-8]\n",
      " [-7]\n",
      " [ 2]]\n"
     ]
    }
   ],
   "source": [
    "#Создаем матрицы\n",
    "A = np.random.randint(-9, 9,(3,3))\n",
    "B = np.random.randint(-9, 9,(3,1))\n",
    "print(\"Первая матрица:\\n\",A)\n",
    "print(\"Вторая матрица:\\n\",B)"
   ]
  },
  {
   "cell_type": "code",
   "execution_count": 7,
   "id": "e6b9932f",
   "metadata": {},
   "outputs": [
    {
     "name": "stdout",
     "output_type": "stream",
     "text": [
      "x1 = [-0.25]\n",
      "x2 = [0.8125]\n",
      "x3 = [-0.9375]\n"
     ]
    }
   ],
   "source": [
    "#Найдем определитель\n",
    "A_det = np.linalg.det(A)\n",
    "\n",
    "if round(A_det) != 0: \n",
    "    #Найдем обратную и присоединенную матрицу\n",
    "    A_inv = np.linalg.inv(A)\n",
    "    R = A_inv.dot(B) \n",
    "    i = 1\n",
    "    for elem in R: \n",
    "        print(f\"x{i} = {elem}\") \n",
    "        i += 1\n",
    "else:\n",
    "    print(\"Определитель равен 0, систему решить нельзя!\")"
   ]
  },
  {
   "cell_type": "markdown",
   "id": "5c204c3c",
   "metadata": {},
   "source": [
    "# Метод Крамера"
   ]
  },
  {
   "cell_type": "markdown",
   "id": "7ba34d51",
   "metadata": {},
   "source": [
    "Для решения системы линейных уравнений методом Крамера из коэффициентов при неизвестных составляется главный определитель системы"
   ]
  },
  {
   "cell_type": "code",
   "execution_count": 10,
   "id": "6c0d3382",
   "metadata": {},
   "outputs": [
    {
     "name": "stdout",
     "output_type": "stream",
     "text": [
      "Первая матрица:\n",
      " [[ 5 -3  6]\n",
      " [-8 -1  3]\n",
      " [ 4 -3 -6]]\n",
      "Вторая матрица:\n",
      " [[-5]\n",
      " [-1]\n",
      " [-8]]\n"
     ]
    }
   ],
   "source": [
    "#Создаем матрицы\n",
    "A = np.random.randint(-9, 9,(3,3))\n",
    "B = np.random.randint(-9, 9,(3,1))\n",
    "print(\"Первая матрица:\\n\",A)\n",
    "print(\"Вторая матрица:\\n\",B)"
   ]
  },
  {
   "cell_type": "code",
   "execution_count": 11,
   "id": "c647e065",
   "metadata": {},
   "outputs": [
    {
     "name": "stdout",
     "output_type": "stream",
     "text": [
      "x1: -0.042735042735042736 \n",
      "x2: 2.1025641025641026 \n",
      "x3: 0.2535612535612536\n"
     ]
    }
   ],
   "source": [
    "#Найдем определитель\n",
    "A_det  = np.linalg.det(A)\n",
    "\n",
    "if round(A_det) != 0:\n",
    "    #Найдем дополнительные определители\n",
    "    d_1 = A.copy() \n",
    "    d_1 [:, 0] = B[:, 0] \n",
    "    x1 = round(np.linalg.det(d_1), 3) / round(A_det, 3)\n",
    "    \n",
    "    d_2 = A.copy()  \n",
    "    d_2[:, 1] = B[:, 0] \n",
    "    x2 = round(np.linalg.det(d_2), 3) / round(A_det, 3) \n",
    "    \n",
    "    d_3 = A.copy() \n",
    "    d_3[:, 2] = B[:, 0] \n",
    "    x3 = round(np.linalg.det(d_3), 3) / round(A_det, 3) \n",
    "   \n",
    "    print(\"x1:\", x1, \"\\nx2:\", x2, \"\\nx3:\", x3)\n",
    "else:\n",
    "    print(\"Матрица вырожденная, нельзя продолжить\")"
   ]
  }
 ],
 "metadata": {
  "kernelspec": {
   "display_name": "Python 3 (ipykernel)",
   "language": "python",
   "name": "python3"
  },
  "language_info": {
   "codemirror_mode": {
    "name": "ipython",
    "version": 3
   },
   "file_extension": ".py",
   "mimetype": "text/x-python",
   "name": "python",
   "nbconvert_exporter": "python",
   "pygments_lexer": "ipython3",
   "version": "3.9.13"
  }
 },
 "nbformat": 4,
 "nbformat_minor": 5
}
